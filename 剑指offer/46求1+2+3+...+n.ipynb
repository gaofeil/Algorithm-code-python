{
 "cells": [
  {
   "cell_type": "code",
   "execution_count": null,
   "metadata": {},
   "outputs": [],
   "source": [
    "'''\n",
    "题目：求1+2+3+...+n，要求不能使用乘除法、for、while、if、else、switch、case等关键字及条件判断语句（A?B:C）。\n",
    "'''\n",
    "\n",
    "'''\n",
    "思路一：利用了python的特性吧，好想法。\n",
    "29ms\n",
    "5632k\n",
    "'''\n",
    "\n",
    "# -*- coding:utf-8 -*-\n",
    "class Solution:\n",
    "    def Sum_Solution(self, n):\n",
    "        # write code here\n",
    "        return sum(list(range(1, n + 1)))\n",
    "\n",
    "'''\n",
    "思路二：利用两个函数，一个函数充当递归函数的角色，另一个函数处理终止递归的情况。如果对n连续进行两次反运算，\n",
    "那么非零的n转换为True，0转换为False。利用这一特性终止递归。注意考虑测试用例为0的情况。\n",
    "34ms\n",
    "6140k\n",
    "'''\n",
    "\n",
    "# -*- coding:utf-8 -*-\n",
    "class Solution:\n",
    "    def Sum_Solution(self, n):\n",
    "        # write code here\n",
    "        return self.sum(n)\n",
    "\n",
    "    def sum0(self, n):\n",
    "        return 0\n",
    "\n",
    "    def sum(self, n):\n",
    "        fun = {False: self.sum0, True: self.sum}\n",
    "        return n + fun[not not n](n - 1)"
   ]
  }
 ],
 "metadata": {
  "kernelspec": {
   "display_name": "Python 3",
   "language": "python",
   "name": "python3"
  },
  "language_info": {
   "codemirror_mode": {
    "name": "ipython",
    "version": 3
   },
   "file_extension": ".py",
   "mimetype": "text/x-python",
   "name": "python",
   "nbconvert_exporter": "python",
   "pygments_lexer": "ipython3",
   "version": "3.6.4"
  }
 },
 "nbformat": 4,
 "nbformat_minor": 2
}
