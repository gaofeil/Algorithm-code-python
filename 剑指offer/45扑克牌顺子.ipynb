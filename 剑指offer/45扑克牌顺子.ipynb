{
 "cells": [
  {
   "cell_type": "code",
   "execution_count": null,
   "metadata": {},
   "outputs": [],
   "source": [
    " '''\n",
    "题目：LL今天心情特别好,因为他去买了一副扑克牌,发现里面居然有2个大王,2个小王(一副牌原本是54张^_^)...\n",
    "他随机从中抽出了5张牌,想测测自己的手气,看看能不能抽到顺子,如果抽到的话,他决定去买体育彩票,嘿嘿！！“红心A,\n",
    "黑桃3,小王,大王,方片5”,“Oh My God!”不是顺子.....LL不高兴了,他想了想,决定大\\小 王可以看成任何数字,\n",
    "并且A看作1,J为11,Q为12,K为13。上面的5张牌就可以变成“1,2,3,4,5”(大小王分别看作2和4),“So Lucky!”。\n",
    "LL决定去买体育彩票啦。 现在,要求你使用这幅牌模拟上面的过程,然后告诉我们LL的运气如何。为了方便起见,\n",
    "你可以认为大小王是0。\n",
    "'''\n",
    "\n",
    "'''\n",
    "注意两点： 1 如果输入为空，返回False \n",
    "           2 除了王的任何某个特定数值的牌出现两张或者更多，那么一定凑不齐顺子\n",
    "思路：\n",
    "先统计王的数量，再把牌排序，如果后面一个数比前面一个数大于1以上，那么中间的差值就必须用王来补了。\n",
    "看王的数量够不够，如果够就返回true，否则返回false。\n",
    "运行时间：25ms\n",
    "\n",
    "占用内存：5712k\n",
    "'''\n",
    "\n",
    "# -*- coding:utf-8 -*-\n",
    "class Solution:\n",
    "    def IsContinuous(self, numbers):\n",
    "        # write code here\n",
    "        if not numbers:\n",
    "            return False\n",
    "        numbers.sort()\n",
    "        zero = numbers.count(0)\n",
    "\n",
    "        # 里面有numbers[i+1]操作，所以取不到最后一个数\n",
    "        for i, v in enumerate(numbers[:-1]):\n",
    "            if v != 0:\n",
    "                # numbers中不能有两个相同的数字\n",
    "                if numbers[i + 1] == v:\n",
    "                    return False\n",
    "                zero = zero - (numbers[i + 1] - v - 1)\n",
    "                if zero < 0:\n",
    "                    return False\n",
    "        return True"
   ]
  }
 ],
 "metadata": {
  "kernelspec": {
   "display_name": "Python 3",
   "language": "python",
   "name": "python3"
  },
  "language_info": {
   "codemirror_mode": {
    "name": "ipython",
    "version": 3
   },
   "file_extension": ".py",
   "mimetype": "text/x-python",
   "name": "python",
   "nbconvert_exporter": "python",
   "pygments_lexer": "ipython3",
   "version": "3.6.4"
  }
 },
 "nbformat": 4,
 "nbformat_minor": 2
}
